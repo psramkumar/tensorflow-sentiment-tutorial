{
 "cells": [
  {
   "cell_type": "markdown",
   "metadata": {},
   "source": [
    "# Sentiment Analysis with TreeLSTMs in TensorFlow Fold\n",
    "\n",
    "The [Stanford Sentiment Treebank](http://nlp.stanford.edu/sentiment/treebank.html) is a corpus of ~10K one-sentence movie reviews from Rotten Tomatoes. The sentences have been parsed into binary trees with words at the leaves; every sub-tree has a label ranging from 0 (highly negative) to 4 (highly positive); 2 means neutral.\n",
    "\n",
    "For example, `(4 (2 Spiderman) (3 ROCKS))` is sentence with two words, corresponding a binary tree with three nodes. The label at the root, for the entire sentence, is `4` (highly positive). The label for the left child, a leaf corresponding to the word `Spiderman`, is `2` (neutral). The label for the right child, a leaf corresponding to the word `ROCKS` is `3` (moderately positive).\n",
    "\n",
    "This notebook shows how to use TensorFlow Fold train a model on the treebank using binary TreeLSTMs and [GloVe](http://nlp.stanford.edu/projects/glove/) word embedding vectors, as described in the paper [Improved Semantic Representations From Tree-Structured Long Short-Term Memory Networks](http://arxiv.org/pdf/1503.00075.pdf) by Tai et al. The original [Torch](http://torch.ch) source code for the model, provided by the authors, is available [here](https://github.com/stanfordnlp/treelstm).\n",
    "\n",
    "The model illustrates three of the more advanced features of Fold, namely:\n",
    "1. [Compositions](https://github.com/tensorflow/fold/blob/master/tensorflow_fold/g3doc/blocks.md#wiring-things-together-in-more-complicated-ways) to wire up blocks to form arbitrary directed acyclic graphs\n",
    "2. [Forward Declarations](https://github.com/tensorflow/fold/blob/master/tensorflow_fold/g3doc/blocks.md#recursion-and-forward-declarations) to create recursive blocks\n",
    "3. [Metrics](https://github.com/tensorflow/fold/blob/master/tensorflow_fold/g3doc/py/td.md#class-tdmetric) to create models where the size of the output is not fixed, but varies as a function of the input data."
   ]
  },
  {
   "cell_type": "code",
   "execution_count": null,
   "metadata": {},
   "outputs": [],
   "source": [
    "# boilerplate\n",
    "import codecs\n",
    "import functools\n",
    "import os\n",
    "import tempfile\n",
    "import zipfile\n",
    "\n",
    "from nltk.tokenize import sexpr\n",
    "import numpy as np\n",
    "from six.moves import urllib\n",
    "import tensorflow as tf\n",
    "sess = tf.InteractiveSession()\n",
    "import tensorflow_fold as td"
   ]
  },
  {
   "cell_type": "markdown",
   "metadata": {},
   "source": [
    "Load the filtered word embeddings into a matrix and build an dict from words to indices into the matrix. Add a random embedding vector for out-of-vocabulary words."
   ]
  },
  {
   "cell_type": "markdown",
   "metadata": {},
   "source": [
    "# Parameters"
   ]
  },
  {
   "cell_type": "code",
   "execution_count": null,
   "metadata": {},
   "outputs": [],
   "source": [
    "data_dir = '/workdir/data/model'\n",
    "train_path, dev_path, test_path = (\n",
    "    '/workdir/data/sst/train.txt',\n",
    "    '/workdir/data/sst/dev.txt',\n",
    "    '/workdir/data/sst/test.txt'\n",
    ")\n",
    "filtered_glove_path = '/workdir/data/sst/glove_filtered.840B.300d.txt'"
   ]
  },
  {
   "cell_type": "markdown",
   "metadata": {},
   "source": [
    "# Loard Data and Embeddings"
   ]
  },
  {
   "cell_type": "markdown",
   "metadata": {},
   "source": [
    "Load embeddings"
   ]
  },
  {
   "cell_type": "code",
   "execution_count": null,
   "metadata": {},
   "outputs": [],
   "source": [
    "def load_embeddings(embedding_path):\n",
    "  \"\"\"Loads embedings, returns weight matrix and dict from words to indices.\"\"\"\n",
    "  print('loading word embeddings from %s' % embedding_path)\n",
    "  weight_vectors = []\n",
    "  word_idx = {}\n",
    "  with codecs.open(embedding_path, encoding='utf-8') as f:\n",
    "    for line in f:\n",
    "      word, vec = line.split(u' ', 1)\n",
    "      word_idx[word] = len(weight_vectors)\n",
    "      weight_vectors.append(np.array(vec.split(), dtype=np.float32))\n",
    "  # Annoying implementation detail; '(' and ')' are replaced by '-LRB-' and\n",
    "  # '-RRB-' respectively in the parse-trees.\n",
    "  word_idx[u'-LRB-'] = word_idx.pop(u'(')\n",
    "  word_idx[u'-RRB-'] = word_idx.pop(u')')\n",
    "  # Random embedding vector for unknown words.\n",
    "  weight_vectors.append(np.random.uniform(\n",
    "      -0.05, 0.05, weight_vectors[0].shape).astype(np.float32))\n",
    "  return np.stack(weight_vectors), word_idx"
   ]
  },
  {
   "cell_type": "code",
   "execution_count": null,
   "metadata": {},
   "outputs": [],
   "source": [
    "weight_matrix, word_idx = load_embeddings(filtered_glove_path)"
   ]
  },
  {
   "cell_type": "markdown",
   "metadata": {},
   "source": [
    "Finally, load the treebank data."
   ]
  },
  {
   "cell_type": "code",
   "execution_count": null,
   "metadata": {},
   "outputs": [],
   "source": [
    "def load_trees(filename):\n",
    "  with codecs.open(filename, encoding='utf-8') as f:\n",
    "    # Drop the trailing newline and strip \\s.\n",
    "    trees = [line.strip().replace('\\\\', '') for line in f]\n",
    "    print('loaded %s trees from %s' % (len(trees), filename))\n",
    "    return trees"
   ]
  },
  {
   "cell_type": "code",
   "execution_count": null,
   "metadata": {},
   "outputs": [],
   "source": [
    "train_trees = load_trees(train_path)\n",
    "dev_trees = load_trees(dev_path)\n",
    "test_trees = load_trees(test_path)"
   ]
  },
  {
   "cell_type": "markdown",
   "metadata": {},
   "source": [
    "## Build the model\n",
    "\n",
    "We want to compute a hidden state vector $h$ for every node in the tree. The hidden state is the input to a linear layer with softmax output for predicting the sentiment label. \n",
    "\n",
    "At the leaves of the tree, words are mapped to word-embedding vectors which serve as the input to a binary tree-LSTM with $0$ for the previous states. At the internal nodes, the LSTM takes $0$ as input, and previous states from its two children. More formally,\n",
    "\n",
    "\\begin{align}\n",
    "h_{word} &= TreeLSTM(Embedding(word), 0, 0) \\\\\n",
    "h_{left, right} &= TreeLSTM(0, h_{left}, h_{right})\n",
    "\\end{align}\n",
    "\n",
    "where $TreeLSTM(x, h_{left}, h_{right})$ is a special kind of LSTM cell that takes two hidden states as inputs, and has a separate forget gate for each of them. Specifically, it is [Tai et al.](http://arxiv.org/pdf/1503.00075.pdf) eqs. 9-14 with $N=2$. One modification here from Tai et al. is that instead of L2 weight regularization, we use recurrent droupout as described in the paper [Recurrent Dropout without Memory Loss](http://arxiv.org/pdf/1603.05118.pdf).\n",
    "\n",
    "We can implement $TreeLSTM$ by subclassing the TensorFlow [`BasicLSTMCell`](https://www.tensorflow.org/versions/r1.0/api_docs/python/contrib.rnn/rnn_cells_for_use_with_tensorflow_s_core_rnn_methods#BasicLSTMCell).\n"
   ]
  },
  {
   "cell_type": "code",
   "execution_count": null,
   "metadata": {},
   "outputs": [],
   "source": [
    "from tensorflow.python.layers import core as core_layers"
   ]
  },
  {
   "cell_type": "code",
   "execution_count": null,
   "metadata": {},
   "outputs": [],
   "source": [
    "class BinaryTreeLSTMCell(tf.nn.rnn_cell.BasicLSTMCell):\n",
    "  \"\"\"LSTM with two state inputs.\n",
    "\n",
    "  This is the model described in section 3.2 of 'Improved Semantic\n",
    "  Representations From Tree-Structured Long Short-Term Memory\n",
    "  Networks' <http://arxiv.org/pdf/1503.00075.pdf>, with recurrent\n",
    "  dropout as described in 'Recurrent Dropout without Memory Loss'\n",
    "  <http://arxiv.org/pdf/1603.05118.pdf>.\n",
    "  \"\"\"\n",
    "\n",
    "  def __init__(self, num_units, keep_prob=1.0):\n",
    "    \"\"\"Initialize the cell.\n",
    "\n",
    "    Args:\n",
    "      num_units: int, The number of units in the LSTM cell.\n",
    "      keep_prob: Keep probability for recurrent dropout.\n",
    "    \"\"\"\n",
    "    super(BinaryTreeLSTMCell, self).__init__(num_units)\n",
    "    self._keep_prob = keep_prob\n",
    "\n",
    "  def __call__(self, inputs, state, scope=None):\n",
    "    with tf.variable_scope(scope or type(self).__name__):\n",
    "      lhs, rhs = state\n",
    "      c0, h0 = lhs\n",
    "      c1, h1 = rhs\n",
    "      num_outputs = 5 * self._num_units\n",
    "        \n",
    "      concat = core_layers.Dense(units=num_outputs).apply(tf.concat([inputs, h0, h1], 1))\n",
    "\n",
    "      # i = input_gate, j = new_input, f = forget_gate, o = output_gate\n",
    "      i, j, f0, f1, o = tf.split(value=concat, num_or_size_splits=5, axis=1)\n",
    "\n",
    "      j = self._activation(j)\n",
    "      if not isinstance(self._keep_prob, float) or self._keep_prob < 1:\n",
    "        j = tf.nn.dropout(j, self._keep_prob)\n",
    "\n",
    "      new_c = (c0 * tf.sigmoid(f0 + self._forget_bias) +\n",
    "               c1 * tf.sigmoid(f1 + self._forget_bias) +\n",
    "               tf.sigmoid(i) * j)\n",
    "      new_h = self._activation(new_c) * tf.sigmoid(o)\n",
    "\n",
    "      new_state = tf.nn.rnn_cell.LSTMStateTuple(new_c, new_h)\n",
    "\n",
    "      return new_h, new_state"
   ]
  },
  {
   "cell_type": "markdown",
   "metadata": {},
   "source": [
    "Use a placeholder for the dropout keep probability, with a default of 1 (for eval)."
   ]
  },
  {
   "cell_type": "code",
   "execution_count": null,
   "metadata": {},
   "outputs": [],
   "source": [
    "keep_prob_ph = tf.placeholder_with_default(1.0, [])"
   ]
  },
  {
   "cell_type": "markdown",
   "metadata": {},
   "source": [
    "Create the LSTM cell for our model. In addition to recurrent dropout, apply dropout to inputs and outputs, using TF's build-in dropout wrapper. Put the LSTM cell inside of a [`td.ScopedLayer`](https://github.com/tensorflow/fold/blob/master/tensorflow_fold/g3doc/py/td.md#class-tdscopedlayer) in order to manage variable scoping. This ensures that our LSTM's variables are encapsulated from the rest of the graph and get created exactly once.\n"
   ]
  },
  {
   "cell_type": "code",
   "execution_count": null,
   "metadata": {},
   "outputs": [],
   "source": [
    "lstm_num_units = 300  # Tai et al. used 150, but our regularization strategy is more effective\n",
    "tree_lstm = td.ScopedLayer(\n",
    "      tf.nn.rnn_cell.DropoutWrapper(\n",
    "          BinaryTreeLSTMCell(lstm_num_units, keep_prob=keep_prob_ph),\n",
    "          input_keep_prob=keep_prob_ph, output_keep_prob=keep_prob_ph),\n",
    "      name_or_scope='tree_lstm')"
   ]
  },
  {
   "cell_type": "markdown",
   "metadata": {},
   "source": [
    "Create the output layer using [`td.FC`](https://github.com/tensorflow/fold/blob/master/tensorflow_fold/g3doc/py/td.md#class-tdfc)."
   ]
  },
  {
   "cell_type": "code",
   "execution_count": null,
   "metadata": {},
   "outputs": [],
   "source": [
    "NUM_CLASSES = 5  # number of distinct sentiment labels\n",
    "output_layer = td.FC(NUM_CLASSES, activation=None, name='output_layer')"
   ]
  },
  {
   "cell_type": "markdown",
   "metadata": {},
   "source": [
    "Create the word embedding using [`td.Embedding`](https://github.com/tensorflow/fold/blob/master/tensorflow_fold/g3doc/py/td.md#class-tdembedding). Note that the built-in Fold layers like `Embedding` and `FC` manage variable scoping automatically, so there is no need to put them inside scoped layers."
   ]
  },
  {
   "cell_type": "code",
   "execution_count": null,
   "metadata": {},
   "outputs": [],
   "source": [
    "word_embedding = td.Embedding(*weight_matrix.shape, initializer=weight_matrix, name='word_embedding')"
   ]
  },
  {
   "cell_type": "markdown",
   "metadata": {},
   "source": [
    "We now have layers that encapsulate all of the trainable variables for our model. The next step is to create the Fold blocks that define how inputs (s-expressions encoded as strings) get processed and used to make predictions. Naturally this requires a recursive model, which we handle in Fold using a [forward declaration](https://github.com/tensorflow/fold/blob/master/tensorflow_fold/g3doc/blocks.md#recursion-and-forward-declarations). The recursive step is to take a subtree (represented as a string) and convert it into a hidden state vector (the LSTM state), thus embedding it in a $n$-dimensional space (where here $n=300$)."
   ]
  },
  {
   "cell_type": "code",
   "execution_count": null,
   "metadata": {},
   "outputs": [],
   "source": [
    "embed_subtree = td.ForwardDeclaration(name='embed_subtree')"
   ]
  },
  {
   "cell_type": "markdown",
   "metadata": {},
   "source": [
    "The core the model is a block that takes as input a list of tokens. The tokens will be either:\n",
    "\n",
    "* `[word]` - a leaf with a single word, the base-case for the recursion, or\n",
    "* `[lhs, rhs]` - an internal node consisting of a pair of sub-expressions\n",
    "\n",
    "The outputs of the block will be a pair consisting of logits (the prediction) and the LSTM state."
   ]
  },
  {
   "cell_type": "code",
   "execution_count": null,
   "metadata": {},
   "outputs": [],
   "source": [
    "def logits_and_state():\n",
    "  \"\"\"Creates a block that goes from tokens to (logits, state) tuples.\"\"\"\n",
    "  unknown_idx = len(word_idx)\n",
    "  lookup_word = lambda word: word_idx.get(word, unknown_idx)\n",
    "  \n",
    "  word2vec = (td.GetItem(0) >> td.InputTransform(lookup_word) >>\n",
    "              td.Scalar('int32') >> word_embedding)\n",
    "\n",
    "  pair2vec = (embed_subtree(), embed_subtree())\n",
    "\n",
    "  # Trees are binary, so the tree layer takes two states as its input_state.\n",
    "  zero_state = td.Zeros((tree_lstm.state_size,) * 2)\n",
    "  # Input is a word vector.\n",
    "  zero_inp = td.Zeros(word_embedding.output_type.shape[0])\n",
    "\n",
    "  word_case = td.AllOf(word2vec, zero_state)\n",
    "  pair_case = td.AllOf(zero_inp, pair2vec)\n",
    "\n",
    "  tree2vec = td.OneOf(len, [(1, word_case), (2, pair_case)])\n",
    "\n",
    "  return tree2vec >> tree_lstm >> (output_layer, td.Identity())"
   ]
  },
  {
   "cell_type": "markdown",
   "metadata": {},
   "source": [
    "Note that we use the call operator `()` to create blocks that reference the `embed_subtree` forward declaration, for the recursive case."
   ]
  },
  {
   "cell_type": "markdown",
   "metadata": {},
   "source": [
    "Define a per-node loss function for training."
   ]
  },
  {
   "cell_type": "code",
   "execution_count": null,
   "metadata": {},
   "outputs": [],
   "source": [
    "def tf_node_loss(logits, labels):\n",
    "  return tf.nn.sparse_softmax_cross_entropy_with_logits(logits=logits, labels=labels)"
   ]
  },
  {
   "cell_type": "markdown",
   "metadata": {},
   "source": [
    "Additionally calculate fine-grained and binary hits (i.e. un-normalized accuracy) for evals. Fine-grained accuracy is defined over all five class labels and will be calculated for all labels, whereas binary accuracy is defined of negative vs. positive classification and will not be calcluated for neutral labels."
   ]
  },
  {
   "cell_type": "code",
   "execution_count": null,
   "metadata": {},
   "outputs": [],
   "source": [
    "def tf_fine_grained_hits(logits, labels):\n",
    "  predictions = tf.cast(tf.argmax(logits, 1), tf.int32)\n",
    "  return tf.cast(tf.equal(predictions, labels), tf.float64)"
   ]
  },
  {
   "cell_type": "code",
   "execution_count": null,
   "metadata": {},
   "outputs": [],
   "source": [
    "def tf_binary_hits(logits, labels):\n",
    "  softmax = tf.nn.softmax(logits)\n",
    "  binary_predictions = (softmax[:, 3] + softmax[:, 4]) > (softmax[:, 0] + softmax[:, 1])\n",
    "  binary_labels = labels > 2\n",
    "  return tf.cast(tf.equal(binary_predictions, binary_labels), tf.float64)"
   ]
  },
  {
   "cell_type": "markdown",
   "metadata": {},
   "source": [
    "The [`td.Metric`](https://github.com/tensorflow/fold/blob/master/tensorflow_fold/g3doc/py/td.md#class-tdmetric) block provides a mechaism for accumulating results across sequential and recursive computations without having the thread them through explictly as return values. Metrics are wired up here inside of a [`td.Composition`](https://github.com/tensorflow/fold/blob/master/tensorflow_fold/g3doc/blocks.md#wiring-things-together-in-more-complicated-ways) block, which allows us to explicitly specify the inputs of sub-blocks with calls to `Block.reads()` inside of a [`Composition.scope()`](https://github.com/tensorflow/fold/blob/master/tensorflow_fold/g3doc/py/td.md#tdcompositionscope) context manager.\n",
    "\n",
    "For training, we will sum the loss over all nodes. But for evals, we would like to separately calcluate accuracies for the root (i.e. entire sentences) to match the numbers presented in the literature. We also need to distinguish between neutral and non-neutral sentiment labels, because binary sentiment doesn't get calculated for neutral nodes.\n",
    "\n",
    "This is easy to do by putting our block creation code for calculating metrics inside of a function and passing it indicators. Note that this needs to be done in Python-land, because we can't inspect the contents of a tensor inside of Fold (since it hasn't been run yet)."
   ]
  },
  {
   "cell_type": "code",
   "execution_count": null,
   "metadata": {},
   "outputs": [],
   "source": [
    "def add_metrics(is_root, is_neutral):\n",
    "  \"\"\"A block that adds metrics for loss and hits; output is the LSTM state.\"\"\"\n",
    "  c = td.Composition(\n",
    "      name='predict(is_root=%s, is_neutral=%s)' % (is_root, is_neutral))\n",
    "  with c.scope():\n",
    "    # destructure the input; (labels, (logits, state))\n",
    "    labels = c.input[0]\n",
    "    logits = td.GetItem(0).reads(c.input[1])\n",
    "    state = td.GetItem(1).reads(c.input[1])\n",
    "\n",
    "    # calculate loss\n",
    "    loss = td.Function(tf_node_loss)\n",
    "    td.Metric('all_loss').reads(loss.reads(logits, labels))\n",
    "    if is_root: td.Metric('root_loss').reads(loss)\n",
    "\n",
    "    # calculate fine-grained hits\n",
    "    hits = td.Function(tf_fine_grained_hits)\n",
    "    td.Metric('all_hits').reads(hits.reads(logits, labels))\n",
    "    if is_root: td.Metric('root_hits').reads(hits)\n",
    "\n",
    "    # calculate binary hits, if the label is not neutral\n",
    "    if not is_neutral:\n",
    "      binary_hits = td.Function(tf_binary_hits).reads(logits, labels)\n",
    "      td.Metric('all_binary_hits').reads(binary_hits)\n",
    "      if is_root: td.Metric('root_binary_hits').reads(binary_hits)\n",
    "\n",
    "    # output the state, which will be read by our by parent's LSTM cell\n",
    "    c.output.reads(state)\n",
    "  return c"
   ]
  },
  {
   "cell_type": "markdown",
   "metadata": {},
   "source": [
    "Use [NLTK](http://www.nltk.org/) to define a `tokenize` function to split S-exprs into left and right parts. We need this to run our `logits_and_state()` block since it expects to be passed a list of tokens and our raw input is strings."
   ]
  },
  {
   "cell_type": "code",
   "execution_count": null,
   "metadata": {},
   "outputs": [],
   "source": [
    "def tokenize(s):\n",
    "  label, phrase = s[1:-1].split(None, 1)\n",
    "  return label, sexpr.sexpr_tokenize(phrase)"
   ]
  },
  {
   "cell_type": "markdown",
   "metadata": {},
   "source": [
    "Try it out."
   ]
  },
  {
   "cell_type": "code",
   "execution_count": null,
   "metadata": {},
   "outputs": [],
   "source": [
    "tokenize('(X Y)')"
   ]
  },
  {
   "cell_type": "code",
   "execution_count": null,
   "metadata": {},
   "outputs": [],
   "source": [
    "tokenize('(X Y Z)')"
   ]
  },
  {
   "cell_type": "markdown",
   "metadata": {},
   "source": [
    "Embed trees (represented as strings) by tokenizing and piping (`>>`) to `label_and_logits`, distinguishing between neutral and non-neutral labels. We don't know here whether or not we are the root node (since this is a recursive computation), so that gets threaded through as an indicator."
   ]
  },
  {
   "cell_type": "code",
   "execution_count": null,
   "metadata": {},
   "outputs": [],
   "source": [
    "def embed_tree(logits_and_state, is_root):\n",
    "  \"\"\"Creates a block that embeds trees; output is tree LSTM state.\"\"\"\n",
    "  return td.InputTransform(tokenize) >> td.OneOf(\n",
    "      key_fn=lambda pair: pair[0] == '2',  # label 2 means neutral\n",
    "      case_blocks=(add_metrics(is_root, is_neutral=False),\n",
    "                   add_metrics(is_root, is_neutral=True)),\n",
    "      pre_block=(td.Scalar('int32'), logits_and_state))"
   ]
  },
  {
   "cell_type": "markdown",
   "metadata": {},
   "source": [
    "Put everything together and create our top-level (i.e. root) model. It is rather simple."
   ]
  },
  {
   "cell_type": "code",
   "execution_count": null,
   "metadata": {},
   "outputs": [],
   "source": [
    "model = embed_tree(logits_and_state(), is_root=True)"
   ]
  },
  {
   "cell_type": "markdown",
   "metadata": {},
   "source": [
    "Resolve the forward declaration for embedding subtrees (the non-root case) with a second call to `embed_tree`."
   ]
  },
  {
   "cell_type": "code",
   "execution_count": null,
   "metadata": {},
   "outputs": [],
   "source": [
    "embed_subtree.resolve_to(embed_tree(logits_and_state(), is_root=False))"
   ]
  },
  {
   "cell_type": "markdown",
   "metadata": {},
   "source": [
    "[Compile](https://github.com/tensorflow/fold/blob/master/tensorflow_fold/g3doc/running.md#batching-inputs) the model."
   ]
  },
  {
   "cell_type": "code",
   "execution_count": null,
   "metadata": {},
   "outputs": [],
   "source": [
    "compiler = td.Compiler.create(model)\n",
    "print('input type: %s' % model.input_type)\n",
    "print('output type: %s' % model.output_type)"
   ]
  },
  {
   "cell_type": "markdown",
   "metadata": {},
   "source": [
    "## Setup for training\n",
    "\n",
    "Calculate means by summing the raw metrics."
   ]
  },
  {
   "cell_type": "code",
   "execution_count": null,
   "metadata": {},
   "outputs": [],
   "source": [
    "metrics = {k: tf.reduce_mean(v) for k, v in compiler.metric_tensors.items()}"
   ]
  },
  {
   "cell_type": "markdown",
   "metadata": {},
   "source": [
    "Magic numbers."
   ]
  },
  {
   "cell_type": "code",
   "execution_count": null,
   "metadata": {},
   "outputs": [],
   "source": [
    "LEARNING_RATE = 0.05\n",
    "KEEP_PROB = 0.75\n",
    "BATCH_SIZE = 100\n",
    "EPOCHS = 20\n",
    "EMBEDDING_LEARNING_RATE_FACTOR = 0.1"
   ]
  },
  {
   "cell_type": "markdown",
   "metadata": {},
   "source": [
    "Training with [Adagrad](https://www.tensorflow.org/versions/master/api_docs/python/train/optimizers#AdagradOptimizer)."
   ]
  },
  {
   "cell_type": "code",
   "execution_count": null,
   "metadata": {},
   "outputs": [],
   "source": [
    "train_feed_dict = {keep_prob_ph: KEEP_PROB}\n",
    "loss = tf.reduce_sum(compiler.metric_tensors['all_loss'])\n",
    "opt = tf.train.AdagradOptimizer(LEARNING_RATE)"
   ]
  },
  {
   "cell_type": "markdown",
   "metadata": {},
   "source": [
    "Important detail from section 5.3 of [Tai et al.]((http://arxiv.org/pdf/1503.00075.pdf); downscale the gradients for the word embedding vectors 10x otherwise we overfit horribly.\n"
   ]
  },
  {
   "cell_type": "code",
   "execution_count": null,
   "metadata": {},
   "outputs": [],
   "source": [
    "grads_and_vars = opt.compute_gradients(loss)\n",
    "found = 0\n",
    "for i, (grad, var) in enumerate(grads_and_vars):\n",
    "  if var == word_embedding.weights:\n",
    "    found += 1\n",
    "    grad = tf.scalar_mul(EMBEDDING_LEARNING_RATE_FACTOR, grad)\n",
    "    grads_and_vars[i] = (grad, var)\n",
    "assert found == 1  # internal consistency check\n",
    "train = opt.apply_gradients(grads_and_vars)\n",
    "saver = tf.train.Saver()"
   ]
  },
  {
   "cell_type": "markdown",
   "metadata": {},
   "source": [
    "The TF graph is now complete; initialize the variables."
   ]
  },
  {
   "cell_type": "code",
   "execution_count": null,
   "metadata": {},
   "outputs": [],
   "source": [
    "sess.run(tf.global_variables_initializer())"
   ]
  },
  {
   "cell_type": "markdown",
   "metadata": {},
   "source": [
    "## Train the model"
   ]
  },
  {
   "cell_type": "markdown",
   "metadata": {},
   "source": [
    "Start by defining a function that does a single step of training on a batch and returns the loss."
   ]
  },
  {
   "cell_type": "code",
   "execution_count": null,
   "metadata": {},
   "outputs": [],
   "source": [
    "def train_step(batch):\n",
    "  train_feed_dict[compiler.loom_input_tensor] = batch\n",
    "  _, batch_loss = sess.run([train, loss], train_feed_dict)\n",
    "  return batch_loss"
   ]
  },
  {
   "cell_type": "markdown",
   "metadata": {},
   "source": [
    "Now similarly for an entire epoch of training."
   ]
  },
  {
   "cell_type": "code",
   "execution_count": null,
   "metadata": {},
   "outputs": [],
   "source": [
    "def train_epoch(train_set):\n",
    "  return sum(train_step(batch) for batch in td.group_by_batches(train_set, BATCH_SIZE))\n"
   ]
  },
  {
   "cell_type": "markdown",
   "metadata": {},
   "source": [
    "Use [`Compiler.build_loom_inputs()`](https://github.com/tensorflow/fold/blob/master/tensorflow_fold/g3doc/py/td.md#tdcompilerbuild_loom_inputsexamples-metric_labelsfalse-chunk_size100-orderedfalse) to transform `train_trees` into individual loom inputs (i.e. wiring diagrams) that we can use to actually run the model."
   ]
  },
  {
   "cell_type": "code",
   "execution_count": null,
   "metadata": {},
   "outputs": [],
   "source": [
    "train_set = compiler.build_loom_inputs(train_trees)"
   ]
  },
  {
   "cell_type": "markdown",
   "metadata": {},
   "source": [
    "Use [`Compiler.build_feed_dict()`](https://github.com/tensorflow/fold/blob/master/tensorflow_fold/g3doc/py/td.md#tdcompilerbuild_feed_dictexamples-batch_sizenone-metric_labelsfalse-orderedfalse) to build a feed dictionary for validation on the dev set. This is marginally faster and more convenient than calling `build_loom_inputs`. We used `build_loom_inputs` on the train set so that we can shuffle the individual wiring diagrams into different batches for each epoch."
   ]
  },
  {
   "cell_type": "code",
   "execution_count": null,
   "metadata": {},
   "outputs": [],
   "source": [
    "dev_feed_dict = compiler.build_feed_dict(dev_trees)"
   ]
  },
  {
   "cell_type": "markdown",
   "metadata": {},
   "source": [
    "Define a function to do an eval on the dev set and pretty-print some stats, returning accuracy on the dev set."
   ]
  },
  {
   "cell_type": "code",
   "execution_count": null,
   "metadata": {},
   "outputs": [],
   "source": [
    "def dev_eval(epoch, train_loss):\n",
    "  dev_metrics = sess.run(metrics, dev_feed_dict)\n",
    "  dev_loss = dev_metrics['all_loss']\n",
    "  dev_accuracy = ['%s: %.2f' % (k, v * 100) for k, v in\n",
    "                  sorted(dev_metrics.items()) if k.endswith('hits')]\n",
    "  print('epoch:%4d, train_loss: %.3e, dev_loss_avg: %.3e, dev_accuracy:\\n  [%s]'\n",
    "        % (epoch, train_loss, dev_loss, ' '.join(dev_accuracy)))\n",
    "  return dev_metrics['root_hits']"
   ]
  },
  {
   "cell_type": "markdown",
   "metadata": {},
   "source": [
    "Run the main training loop, saving the model after each epoch if it has the best accuracy on the dev set. Use the [`td.epochs`](https://github.com/tensorflow/fold/blob/master/tensorflow_fold/g3doc/py/td.md#tdepochsitems-nnone-shuffletrue-prngnone) utility function to memoize the loom inputs and shuffle them after every epoch of training."
   ]
  },
  {
   "cell_type": "code",
   "execution_count": null,
   "metadata": {},
   "outputs": [],
   "source": [
    "best_accuracy = 0.0\n",
    "save_path = os.path.join(data_dir, 'sentiment_model')\n",
    "for epoch, shuffled in enumerate(td.epochs(train_set, EPOCHS), 1):\n",
    "  train_loss = train_epoch(shuffled)\n",
    "  accuracy = dev_eval(epoch, train_loss)\n",
    "  if accuracy > best_accuracy:\n",
    "    best_accuracy = accuracy\n",
    "    checkpoint_path = saver.save(sess, save_path, global_step=epoch)\n",
    "    print('model saved in file: %s' % checkpoint_path)"
   ]
  },
  {
   "cell_type": "markdown",
   "metadata": {},
   "source": [
    "The model starts to overfit pretty quickly even with dropout, as the LSTM begins to memorize the training set (which is rather small)."
   ]
  },
  {
   "cell_type": "markdown",
   "metadata": {},
   "source": [
    "## Evaluate the model\n",
    "\n",
    "Restore the model from the last checkpoint, where we saw the best accuracy on the dev set."
   ]
  },
  {
   "cell_type": "code",
   "execution_count": null,
   "metadata": {},
   "outputs": [],
   "source": [
    "saver.restore(sess, checkpoint_path)"
   ]
  },
  {
   "cell_type": "markdown",
   "metadata": {},
   "source": [
    "See how we did."
   ]
  },
  {
   "cell_type": "code",
   "execution_count": null,
   "metadata": {},
   "outputs": [],
   "source": [
    "test_results = sorted(sess.run(metrics, compiler.build_feed_dict(test_trees)).items())\n",
    "print('    loss: [%s]' % ' '.join(\n",
    "  '%s: %.3e' % (name.rsplit('_', 1)[0], v)\n",
    "  for name, v in test_results if name.endswith('_loss')))\n",
    "print('accuracy: [%s]' % ' '.join(\n",
    "  '%s: %.2f' % (name.rsplit('_', 1)[0], v * 100)\n",
    "  for name, v in test_results if name.endswith('_hits')))"
   ]
  },
  {
   "cell_type": "markdown",
   "metadata": {},
   "source": [
    "Not bad! See section 3.5.1 of [our paper](https://arxiv.org/abs/1702.02181) for discussion and a comparison of these results to the state of the art."
   ]
  }
 ],
 "metadata": {
  "kernelspec": {
   "display_name": "Python 2",
   "language": "python",
   "name": "python2"
  },
  "language_info": {
   "codemirror_mode": {
    "name": "ipython",
    "version": 2
   },
   "file_extension": ".py",
   "mimetype": "text/x-python",
   "name": "python",
   "nbconvert_exporter": "python",
   "pygments_lexer": "ipython2",
   "version": "2.7.12"
  }
 },
 "nbformat": 4,
 "nbformat_minor": 2
}
